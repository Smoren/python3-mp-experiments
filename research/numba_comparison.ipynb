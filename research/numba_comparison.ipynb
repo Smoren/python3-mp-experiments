{
 "cells": [
  {
   "cell_type": "code",
   "execution_count": 1,
   "id": "initial_id",
   "metadata": {
    "collapsed": true,
    "ExecuteTime": {
     "end_time": "2023-11-22T17:15:33.766404976Z",
     "start_time": "2023-11-22T17:15:33.571784463Z"
    }
   },
   "outputs": [],
   "source": [
    "import numba as nb\n",
    "import numpy as np"
   ]
  },
  {
   "cell_type": "code",
   "execution_count": 2,
   "outputs": [
    {
     "name": "stdout",
     "output_type": "stream",
     "text": [
      "System info:\r\n",
      "--------------------------------------------------------------------------------\r\n",
      "__Time Stamp__\r\n",
      "Report started (local time)                   : 2023-11-22 18:56:36.720954\r\n",
      "UTC start time                                : 2023-11-22 15:56:36.720964\r\n",
      "Running time (s)                              : 0.606791\r\n",
      "\r\n",
      "__Hardware Information__\r\n",
      "Machine                                       : x86_64\r\n",
      "CPU Name                                      : alderlake\r\n",
      "CPU Count                                     : 20\r\n",
      "Number of accessible CPUs                     : 20\r\n",
      "List of accessible CPUs cores                 : 0 1 2 3 4 5 6 7 8 9 10 11 12 13 14 15 16 17 18 19\r\n",
      "CFS Restrictions (CPUs worth of runtime)      : None\r\n",
      "\r\n",
      "CPU Features                                  : 64bit adx aes avx avx2 avxvnni bmi\r\n",
      "                                                bmi2 clflushopt clwb cmov crc32\r\n",
      "                                                cx16 cx8 f16c fma fsgsbase fxsr\r\n",
      "                                                gfni hreset invpcid kl lzcnt mmx\r\n",
      "                                                movbe movdir64b movdiri pclmul pku\r\n",
      "                                                popcnt prfchw ptwrite rdpid rdrnd\r\n",
      "                                                rdseed sahf serialize sha shstk\r\n",
      "                                                sse sse2 sse3 sse4.1 sse4.2 ssse3\r\n",
      "                                                vaes vpclmulqdq waitpkg widekl\r\n",
      "                                                xsave xsavec xsaveopt xsaves\r\n",
      "\r\n",
      "Memory Total (MB)                             : 15711\r\n",
      "Memory Available (MB)                         : 3772\r\n",
      "\r\n",
      "__OS Information__\r\n",
      "Platform Name                                 : Linux-5.15.0-89-generic-x86_64-with-glibc2.35\r\n",
      "Platform Release                              : 5.15.0-89-generic\r\n",
      "OS Name                                       : Linux\r\n",
      "OS Version                                    : #99-Ubuntu SMP Mon Oct 30 20:42:41 UTC 2023\r\n",
      "OS Specific Version                           : ?\r\n",
      "Libc Version                                  : glibc 2.35\r\n",
      "\r\n",
      "__Python Information__\r\n",
      "Python Compiler                               : GCC 11.4.0\r\n",
      "Python Implementation                         : CPython\r\n",
      "Python Version                                : 3.10.12\r\n",
      "Python Locale                                 : en_US.UTF-8\r\n",
      "\r\n",
      "__Numba Toolchain Versions__\r\n",
      "Numba Version                                 : 0.58.1\r\n",
      "llvmlite Version                              : 0.41.1\r\n",
      "\r\n",
      "__LLVM Information__\r\n",
      "LLVM Version                                  : 14.0.6\r\n",
      "\r\n",
      "__CUDA Information__\r\n",
      "CUDA Device Initialized                       : False\r\n",
      "CUDA Driver Version                           : ?\r\n",
      "CUDA Runtime Version                          : ?\r\n",
      "CUDA NVIDIA Bindings Available                : ?\r\n",
      "CUDA NVIDIA Bindings In Use                   : ?\r\n",
      "CUDA Minor Version Compatibility Available    : ?\r\n",
      "CUDA Minor Version Compatibility Needed       : ?\r\n",
      "CUDA Minor Version Compatibility In Use       : ?\r\n",
      "CUDA Detect Output:\r\n",
      "None\r\n",
      "CUDA Libraries Test Output:\r\n",
      "None\r\n",
      "\r\n",
      "__NumPy Information__\r\n",
      "NumPy Version                                 : 1.26.2\r\n",
      "NumPy Supported SIMD features                 : ('MMX', 'SSE', 'SSE2', 'SSE3', 'SSSE3', 'SSE41', 'POPCNT', 'SSE42', 'AVX', 'F16C', 'FMA3', 'AVX2')\r\n",
      "NumPy Supported SIMD dispatch                 : ('SSSE3', 'SSE41', 'POPCNT', 'SSE42', 'AVX', 'F16C', 'FMA3', 'AVX2', 'AVX512F', 'AVX512CD', 'AVX512_KNL', 'AVX512_KNM', 'AVX512_SKX', 'AVX512_CLX', 'AVX512_CNL', 'AVX512_ICL')\r\n",
      "NumPy Supported SIMD baseline                 : ('SSE', 'SSE2', 'SSE3')\r\n",
      "NumPy AVX512_SKX support detected             : False\r\n",
      "\r\n",
      "__SVML Information__\r\n",
      "SVML State, config.USING_SVML                 : False\r\n",
      "SVML Library Loaded                           : False\r\n",
      "llvmlite Using SVML Patched LLVM              : True\r\n",
      "SVML Operational                              : False\r\n",
      "\r\n",
      "__Threading Layer Information__\r\n",
      "TBB Threading Layer Available                 : False\r\n",
      "+--> Disabled due to Unknown import problem.\r\n",
      "OpenMP Threading Layer Available              : True\r\n",
      "+-->Vendor: GNU\r\n",
      "Workqueue Threading Layer Available           : True\r\n",
      "+-->Workqueue imported successfully.\r\n",
      "\r\n",
      "__Numba Environment Variable Information__\r\n",
      "None found.\r\n",
      "\r\n",
      "__Conda Information__\r\n",
      "Conda not available.\r\n",
      "\r\n",
      "__Installed Packages__\r\n",
      "Package                   Version\r\n",
      "------------------------- ----------\r\n",
      "aiosignal                 1.3.1\r\n",
      "anyio                     4.0.0\r\n",
      "argon2-cffi               23.1.0\r\n",
      "argon2-cffi-bindings      21.2.0\r\n",
      "arrow                     1.3.0\r\n",
      "asttokens                 2.4.1\r\n",
      "async-lru                 2.0.4\r\n",
      "attrs                     23.1.0\r\n",
      "Babel                     2.13.1\r\n",
      "beautifulsoup4            4.12.2\r\n",
      "bleach                    6.1.0\r\n",
      "certifi                   2023.11.17\r\n",
      "cffi                      1.16.0\r\n",
      "charset-normalizer        3.3.2\r\n",
      "click                     8.1.7\r\n",
      "comm                      0.2.0\r\n",
      "debugpy                   1.8.0\r\n",
      "decorator                 5.1.1\r\n",
      "defusedxml                0.7.1\r\n",
      "docopt                    0.6.2\r\n",
      "exceptiongroup            1.2.0\r\n",
      "executing                 2.0.1\r\n",
      "fastjsonschema            2.19.0\r\n",
      "filelock                  3.13.1\r\n",
      "fqdn                      1.5.1\r\n",
      "frozenlist                1.4.0\r\n",
      "future                    0.18.3\r\n",
      "grako                     3.99.9\r\n",
      "idna                      3.4\r\n",
      "ipykernel                 6.27.0\r\n",
      "ipython                   8.17.2\r\n",
      "ipywidgets                8.1.1\r\n",
      "isoduration               20.11.0\r\n",
      "jedi                      0.19.1\r\n",
      "Jinja2                    3.1.2\r\n",
      "json5                     0.9.14\r\n",
      "jsonpointer               2.4\r\n",
      "jsonschema                4.20.0\r\n",
      "jsonschema-specifications 2023.11.1\r\n",
      "jupyter                   1.0.0\r\n",
      "jupyter_client            8.6.0\r\n",
      "jupyter-console           6.6.3\r\n",
      "jupyter_core              5.5.0\r\n",
      "jupyter-events            0.9.0\r\n",
      "jupyter-lsp               2.2.0\r\n",
      "jupyter_server            2.11.0\r\n",
      "jupyter_server_terminals  0.4.4\r\n",
      "jupyterlab                4.0.9\r\n",
      "jupyterlab-pygments       0.2.2\r\n",
      "jupyterlab_server         2.25.2\r\n",
      "jupyterlab-widgets        3.0.9\r\n",
      "llvmlite                  0.41.1\r\n",
      "MarkupSafe                2.1.3\r\n",
      "matplotlib-inline         0.1.6\r\n",
      "mistune                   3.0.2\r\n",
      "msgpack                   1.0.7\r\n",
      "nbclient                  0.9.0\r\n",
      "nbconvert                 7.11.0\r\n",
      "nbformat                  5.9.2\r\n",
      "nest-asyncio              1.5.8\r\n",
      "notebook                  7.0.6\r\n",
      "notebook_shim             0.2.3\r\n",
      "numba                     0.58.1\r\n",
      "numpy                     1.26.2\r\n",
      "overrides                 7.4.0\r\n",
      "packaging                 23.2\r\n",
      "pandocfilters             1.5.0\r\n",
      "parso                     0.8.3\r\n",
      "pexpect                   4.8.0\r\n",
      "pip                       22.0.2\r\n",
      "platformdirs              4.0.0\r\n",
      "prometheus-client         0.19.0\r\n",
      "prompt-toolkit            3.0.41\r\n",
      "protobuf                  4.25.1\r\n",
      "psutil                    5.9.6\r\n",
      "ptyprocess                0.7.0\r\n",
      "pure-eval                 0.2.2\r\n",
      "pycparser                 2.21\r\n",
      "Pygments                  2.17.2\r\n",
      "python-dateutil           2.8.2\r\n",
      "python-json-logger        2.0.7\r\n",
      "PyYAML                    6.0.1\r\n",
      "pyzmq                     25.1.1\r\n",
      "qtconsole                 5.5.1\r\n",
      "QtPy                      2.4.1\r\n",
      "ray                       2.8.0\r\n",
      "rbc                       0.2.0\r\n",
      "referencing               0.31.0\r\n",
      "requests                  2.31.0\r\n",
      "rfc3339-validator         0.1.4\r\n",
      "rfc3986-validator         0.1.1\r\n",
      "rpds-py                   0.13.1\r\n",
      "Send2Trash                1.8.2\r\n",
      "setuptools                59.6.0\r\n",
      "six                       1.16.0\r\n",
      "sniffio                   1.3.0\r\n",
      "soupsieve                 2.5\r\n",
      "stack-data                0.6.3\r\n",
      "terminado                 0.18.0\r\n",
      "tinycss2                  1.2.1\r\n",
      "tomli                     2.0.1\r\n",
      "tornado                   6.3.3\r\n",
      "traitlets                 5.13.0\r\n",
      "types-python-dateutil     2.8.19.14\r\n",
      "typing_extensions         4.8.0\r\n",
      "uri-template              1.3.0\r\n",
      "urllib3                   2.1.0\r\n",
      "wcwidth                   0.2.12\r\n",
      "webcolors                 1.13\r\n",
      "webencodings              0.5.1\r\n",
      "websocket-client          1.6.4\r\n",
      "whichcraft                0.6.1\r\n",
      "widgetsnbextension        4.0.9\r\n",
      "\r\n",
      "No errors reported.\r\n",
      "\r\n",
      "\r\n",
      "__Warning log__\r\n",
      "Warning (cuda): CUDA driver library cannot be found or no CUDA enabled devices are present.\r\n",
      "Exception class: <class 'numba.cuda.cudadrv.error.CudaSupportError'>\r\n",
      "Warning: Conda not available.\r\n",
      " Error was [Errno 2] No such file or directory: 'conda'\r\n",
      "\r\n",
      "Warning (no file): /sys/fs/cgroup/cpuacct/cpu.cfs_quota_us\r\n",
      "Warning (no file): /sys/fs/cgroup/cpuacct/cpu.cfs_period_us\r\n",
      "--------------------------------------------------------------------------------\r\n",
      "If requested, please copy and paste the information between\r\n",
      "the dashed (----) lines, or from a given specific section as\r\n",
      "appropriate.\r\n",
      "\r\n",
      "=============================================================\r\n",
      "IMPORTANT: Please ensure that you are happy with sharing the\r\n",
      "contents of the information present, any information that you\r\n",
      "wish to keep private you should remove before sharing.\r\n",
      "=============================================================\r\n",
      "\r\n"
     ]
    }
   ],
   "source": [
    "!numba -s\n",
    "\n",
    "# Должны совпадать:\n",
    "# CUDA Driver Version                           : 12.0\n",
    "# CUDA Runtime Version                          : 12.0"
   ],
   "metadata": {
    "collapsed": false,
    "ExecuteTime": {
     "end_time": "2023-11-22T15:56:37.493763236Z",
     "start_time": "2023-11-22T15:56:36.237706038Z"
    }
   },
   "id": "3f15932d1b0c33b6"
  },
  {
   "cell_type": "markdown",
   "source": [
    "# isin(a, b)"
   ],
   "metadata": {
    "collapsed": false
   },
   "id": "5be7b1d23ed79861"
  },
  {
   "cell_type": "code",
   "execution_count": 3,
   "outputs": [
    {
     "data": {
      "text/plain": "(100000000,)"
     },
     "metadata": {},
     "output_type": "display_data"
    },
    {
     "data": {
      "text/plain": "array([       0,        1,        2, ..., 99999997, 99999998, 99999999])"
     },
     "metadata": {},
     "output_type": "display_data"
    },
    {
     "data": {
      "text/plain": "(50000000,)"
     },
     "metadata": {},
     "output_type": "display_data"
    },
    {
     "data": {
      "text/plain": "array([       0,        2,        4, ..., 99999994, 99999996, 99999998])"
     },
     "metadata": {},
     "output_type": "display_data"
    }
   ],
   "source": [
    "a = np.arange(0, 100000000)\n",
    "b = np.arange(0, 100000000, 2)\n",
    "display(a.shape, a)\n",
    "display(b.shape, b)"
   ],
   "metadata": {
    "collapsed": false,
    "ExecuteTime": {
     "end_time": "2023-11-22T15:56:41.076771787Z",
     "start_time": "2023-11-22T15:56:38.236774957Z"
    }
   },
   "id": "65bac27203290694"
  },
  {
   "cell_type": "code",
   "execution_count": 4,
   "outputs": [
    {
     "name": "stdout",
     "output_type": "stream",
     "text": [
      "18.8 s ± 3.16 s per loop (mean ± std. dev. of 2 runs, 1 loop each)\n"
     ]
    },
    {
     "data": {
      "text/plain": "array([ True, False,  True, ..., False,  True, False])"
     },
     "metadata": {},
     "output_type": "display_data"
    }
   ],
   "source": [
    "def isin(a, b):\n",
    "    out = np.empty(a.shape[0], dtype=np.bool_)\n",
    "    b = set(b)\n",
    "    for i in nb.prange(a.shape[0]):\n",
    "        out[i] = a[i] in b\n",
    "    return out\n",
    "\n",
    "%timeit -n 1 -r 2 isin(a, b)\n",
    "display(isin(a, b))"
   ],
   "metadata": {
    "collapsed": false,
    "ExecuteTime": {
     "end_time": "2023-11-22T15:57:32.951615377Z",
     "start_time": "2023-11-22T15:56:47.512631300Z"
    }
   },
   "id": "4d89339b299524fb"
  },
  {
   "cell_type": "code",
   "execution_count": 6,
   "outputs": [
    {
     "name": "stdout",
     "output_type": "stream",
     "text": [
      "1.15 s ± 84.9 ms per loop (mean ± std. dev. of 2 runs, 10 loops each)\n"
     ]
    },
    {
     "data": {
      "text/plain": "array([ True, False,  True, ..., False,  True, False])"
     },
     "metadata": {},
     "output_type": "display_data"
    }
   ],
   "source": [
    "@nb.njit(boundscheck=False, looplift=True, nogil=True)\n",
    "def isin(a, b):\n",
    "    out = np.empty(a.shape[0], dtype=np.bool_)\n",
    "    b = set(b)\n",
    "    for i in nb.prange(a.shape[0]):\n",
    "        out[i] = a[i] in b\n",
    "    return out\n",
    "\n",
    "%timeit -n 10 -r 2 isin(a, b)\n",
    "display(isin(a, b))"
   ],
   "metadata": {
    "collapsed": false,
    "ExecuteTime": {
     "end_time": "2023-11-22T15:58:23.767443913Z",
     "start_time": "2023-11-22T15:57:59.599068230Z"
    }
   },
   "id": "e82c565c17c26181"
  },
  {
   "cell_type": "code",
   "execution_count": 7,
   "outputs": [
    {
     "name": "stdout",
     "output_type": "stream",
     "text": [
      "904 ms ± 33.6 ms per loop (mean ± std. dev. of 2 runs, 10 loops each)\n"
     ]
    },
    {
     "data": {
      "text/plain": "array([ True, False,  True, ..., False,  True, False])"
     },
     "metadata": {},
     "output_type": "display_data"
    }
   ],
   "source": [
    "@nb.njit(boundscheck=False, looplift=True, nogil=True, parallel=True)\n",
    "def isin(a, b):\n",
    "    out = np.empty(a.shape[0], dtype=np.bool_)\n",
    "    b = set(b)\n",
    "    for i in nb.prange(a.shape[0]):\n",
    "        out[i] = a[i] in b\n",
    "    return out\n",
    "\n",
    "%timeit -n 10 -r 2 isin(a, b)\n",
    "display(isin(a, b))"
   ],
   "metadata": {
    "collapsed": false,
    "ExecuteTime": {
     "end_time": "2023-11-22T15:58:42.776669763Z",
     "start_time": "2023-11-22T15:58:23.773448703Z"
    }
   },
   "id": "892f2ad587fa7cb6"
  },
  {
   "cell_type": "code",
   "execution_count": 8,
   "outputs": [
    {
     "name": "stdout",
     "output_type": "stream",
     "text": [
      "881 ms ± 17.3 ms per loop (mean ± std. dev. of 2 runs, 10 loops each)\n"
     ]
    },
    {
     "data": {
      "text/plain": "array([ True, False,  True, ..., False,  True, False])"
     },
     "metadata": {},
     "output_type": "display_data"
    }
   ],
   "source": [
    "@nb.njit(boundscheck=False, looplift=True, nogil=True, parallel=True)\n",
    "def isin(a, b, clusters_count):\n",
    "    out = np.empty(a.shape[0], dtype=np.bool_)\n",
    "    b = set(b)\n",
    "    cluster_size = np.ceil(a.shape[0] / clusters_count)\n",
    "    for i in nb.prange(clusters_count):\n",
    "        start = i * cluster_size\n",
    "        for j in range(start, start+cluster_size):\n",
    "            out[j] = a[j] in b\n",
    "    return out\n",
    "\n",
    "%timeit -n 10 -r 2 isin(a, b, 10)\n",
    "display(isin(a, b, 10))"
   ],
   "metadata": {
    "collapsed": false,
    "ExecuteTime": {
     "end_time": "2023-11-22T15:59:01.303008535Z",
     "start_time": "2023-11-22T15:58:42.785929550Z"
    }
   },
   "id": "9469fd6c9c4d0395"
  },
  {
   "cell_type": "code",
   "execution_count": 11,
   "outputs": [
    {
     "name": "stdout",
     "output_type": "stream",
     "text": [
      "1.09 s ± 27.6 ms per loop (mean ± std. dev. of 2 runs, 10 loops each)\n"
     ]
    },
    {
     "data": {
      "text/plain": "array([ True, False,  True, ..., False,  True, False])"
     },
     "metadata": {},
     "output_type": "display_data"
    }
   ],
   "source": [
    "@nb.guvectorize([(nb.int64[:], nb.int64[:], nb.bool_[:])], '(n),(m)->(n)', nopython=True)\n",
    "def isin(a, b, out):\n",
    "    b = set(b)\n",
    "    for i in nb.prange(a.shape[0]):\n",
    "        out[i] = a[i] in b\n",
    "\n",
    "%timeit -n 10 -r 2 isin(a, b)\n",
    "display(isin(a, b))"
   ],
   "metadata": {
    "collapsed": false,
    "ExecuteTime": {
     "end_time": "2023-11-22T16:06:44.174143905Z",
     "start_time": "2023-11-22T16:06:21.139346944Z"
    }
   },
   "id": "efb6a01d83985070"
  },
  {
   "cell_type": "code",
   "execution_count": 12,
   "outputs": [
    {
     "name": "stdout",
     "output_type": "stream",
     "text": [
      "1.11 s ± 32 ms per loop (mean ± std. dev. of 2 runs, 10 loops each)\n"
     ]
    },
    {
     "data": {
      "text/plain": "array([ True, False,  True, ..., False,  True, False])"
     },
     "metadata": {},
     "output_type": "display_data"
    }
   ],
   "source": [
    "@nb.guvectorize([(nb.int64[:], nb.int64[:], nb.bool_[:])], '(n),(m)->(n)', nopython=True, target='parallel')\n",
    "def isin(a, b, out):\n",
    "    b = set(b)\n",
    "    for i in nb.prange(a.shape[0]):\n",
    "        out[i] = a[i] in b\n",
    "\n",
    "%timeit -n 10 -r 2 isin(a, b)\n",
    "display(isin(a, b))"
   ],
   "metadata": {
    "collapsed": false,
    "ExecuteTime": {
     "end_time": "2023-11-22T16:07:08.866721223Z",
     "start_time": "2023-11-22T16:06:45.259858239Z"
    }
   },
   "id": "5f91cc8721e6b3ca"
  },
  {
   "cell_type": "markdown",
   "source": [
    "# sin(x^2) + cos(y + a)"
   ],
   "metadata": {
    "collapsed": false
   },
   "id": "d330baad7ac61faa"
  },
  {
   "cell_type": "code",
   "execution_count": 13,
   "outputs": [
    {
     "data": {
      "text/plain": "(1000000,)"
     },
     "metadata": {},
     "output_type": "display_data"
    },
    {
     "data": {
      "text/plain": "array([36., 82.,  5., ..., 32., 66., 62.])"
     },
     "metadata": {},
     "output_type": "display_data"
    },
    {
     "data": {
      "text/plain": "(1000000,)"
     },
     "metadata": {},
     "output_type": "display_data"
    },
    {
     "data": {
      "text/plain": "array([32., 20., 87., ..., 61., 71., 66.])"
     },
     "metadata": {},
     "output_type": "display_data"
    }
   ],
   "source": [
    "x = np.random.randint(low=0, high=100, size=1000000).astype(np.float64)\n",
    "y = np.random.randint(low=0, high=100, size=1000000).astype(np.float64)\n",
    "display(x.shape, x)\n",
    "display(y.shape, y)"
   ],
   "metadata": {
    "collapsed": false,
    "ExecuteTime": {
     "end_time": "2023-11-22T16:07:31.515857872Z",
     "start_time": "2023-11-22T16:07:31.494498285Z"
    }
   },
   "id": "d7dd58f68d592c25"
  },
  {
   "cell_type": "code",
   "execution_count": 14,
   "outputs": [
    {
     "name": "stdout",
     "output_type": "stream",
     "text": [
      "1.17 s ± 6.31 ms per loop (mean ± std. dev. of 2 runs, 10 loops each)\n"
     ]
    },
    {
     "data": {
      "text/plain": "array([ 0.59569048,  0.99122066, -1.05749929, ..., -0.46755611,\n        1.7602084 , -0.1417008 ])"
     },
     "metadata": {},
     "output_type": "display_data"
    }
   ],
   "source": [
    "def my_math_func(x, y, a):\n",
    "    out = np.empty(x.shape[0], dtype=np.float64)\n",
    "    for i in nb.prange(x.shape[0]):\n",
    "        out[i] = np.sin(x[i]**2) + np.cos(y[i] + a)\n",
    "    return out\n",
    "\n",
    "%timeit -n 10 -r 2 my_math_func(x, y, 10.)\n",
    "display(my_math_func(x, y, 10.))"
   ],
   "metadata": {
    "collapsed": false,
    "ExecuteTime": {
     "end_time": "2023-11-22T16:07:56.679421617Z",
     "start_time": "2023-11-22T16:07:32.125168155Z"
    }
   },
   "id": "7bade0495191a386"
  },
  {
   "cell_type": "code",
   "execution_count": 15,
   "outputs": [
    {
     "name": "stdout",
     "output_type": "stream",
     "text": [
      "30.7 ms ± 1.08 ms per loop (mean ± std. dev. of 2 runs, 100 loops each)\n"
     ]
    },
    {
     "data": {
      "text/plain": "array([ 0.59569048,  0.99122066, -1.05749929, ..., -0.46755611,\n        1.7602084 , -0.1417008 ])"
     },
     "metadata": {},
     "output_type": "display_data"
    }
   ],
   "source": [
    "@nb.njit\n",
    "def my_math_func(x, y, a):\n",
    "    out = np.empty(x.shape[0], dtype=np.float64)\n",
    "    for i in nb.prange(x.shape[0]):\n",
    "        out[i] = np.sin(x[i]**2) + np.cos(y[i] + a)\n",
    "    return out\n",
    "\n",
    "%timeit -n 100 -r 2 my_math_func(x, y, 10.)\n",
    "display(my_math_func(x, y, 10.))"
   ],
   "metadata": {
    "collapsed": false,
    "ExecuteTime": {
     "end_time": "2023-11-22T16:08:02.856976859Z",
     "start_time": "2023-11-22T16:07:56.687951673Z"
    }
   },
   "id": "1de0958fac7c2f6c"
  },
  {
   "cell_type": "code",
   "execution_count": 16,
   "outputs": [
    {
     "name": "stdout",
     "output_type": "stream",
     "text": [
      "30.5 ms ± 436 µs per loop (mean ± std. dev. of 2 runs, 100 loops each)\n"
     ]
    },
    {
     "data": {
      "text/plain": "array([ 0.59569048,  0.99122066, -1.05749929, ..., -0.46755611,\n        1.7602084 , -0.1417008 ])"
     },
     "metadata": {},
     "output_type": "display_data"
    }
   ],
   "source": [
    "@nb.njit\n",
    "def my_math_func(x, y, a):\n",
    "    out = np.empty(x.shape[0], dtype=np.float64)\n",
    "    for i in nb.prange(x.shape[0]):\n",
    "        out[i] = np.sin(x[i]**2) + np.cos(y[i] + a)\n",
    "    return out\n",
    "\n",
    "%timeit -n 100 -r 2 my_math_func(x, y, 10.)\n",
    "display(my_math_func(x, y, 10.))"
   ],
   "metadata": {
    "collapsed": false,
    "ExecuteTime": {
     "end_time": "2023-11-22T16:08:09.032582291Z",
     "start_time": "2023-11-22T16:08:02.863370271Z"
    }
   },
   "id": "c7c9847f3a317e50"
  },
  {
   "cell_type": "code",
   "execution_count": 17,
   "outputs": [
    {
     "name": "stdout",
     "output_type": "stream",
     "text": [
      "11.9 ms ± 3.45 ms per loop (mean ± std. dev. of 2 runs, 100 loops each)\n"
     ]
    },
    {
     "data": {
      "text/plain": "array([ 0.59569048,  0.99122066, -1.05749929, ..., -0.46755611,\n        1.7602084 , -0.1417008 ])"
     },
     "metadata": {},
     "output_type": "display_data"
    }
   ],
   "source": [
    "@nb.njit(parallel=True)\n",
    "def my_math_func(x, y, a):\n",
    "    out = np.empty(x.shape[0], dtype=np.float64)\n",
    "    for i in nb.prange(x.shape[0]):\n",
    "        out[i] = np.sin(x[i]**2) + np.cos(y[i] + a)\n",
    "    return out\n",
    "\n",
    "%timeit -n 100 -r 2 my_math_func(x, y, 10.)\n",
    "display(my_math_func(x, y, 10.))"
   ],
   "metadata": {
    "collapsed": false,
    "ExecuteTime": {
     "end_time": "2023-11-22T16:08:11.443430115Z",
     "start_time": "2023-11-22T16:08:09.032158976Z"
    }
   },
   "id": "3e881485a3e18e37"
  },
  {
   "cell_type": "code",
   "execution_count": 18,
   "outputs": [
    {
     "name": "stdout",
     "output_type": "stream",
     "text": [
      "33.6 ms ± 2.17 ms per loop (mean ± std. dev. of 2 runs, 100 loops each)\n"
     ]
    },
    {
     "data": {
      "text/plain": "array([ 0.59569048,  0.99122066, -1.05749929, ..., -0.46755611,\n        1.7602084 , -0.1417008 ])"
     },
     "metadata": {},
     "output_type": "display_data"
    }
   ],
   "source": [
    "@nb.guvectorize([(nb.float64[:], nb.float64[:], nb.float64, nb.float64[:])], '(n),(n),()->(n)', nopython=True)\n",
    "def my_math_func(x, y, a, out):\n",
    "    for i in nb.prange(x.shape[0]):\n",
    "        out[i] = np.sin(x[i]**2) + np.cos(y[i] + a)\n",
    "\n",
    "%timeit -n 100 -r 2 my_math_func(x, y, 10.)\n",
    "display(my_math_func(x, y, 10.))"
   ],
   "metadata": {
    "collapsed": false,
    "ExecuteTime": {
     "end_time": "2023-11-22T16:08:18.234076129Z",
     "start_time": "2023-11-22T16:08:11.444592742Z"
    }
   },
   "id": "5b8008c04036d854"
  },
  {
   "cell_type": "code",
   "execution_count": 19,
   "outputs": [
    {
     "name": "stdout",
     "output_type": "stream",
     "text": [
      "38.6 ms ± 743 µs per loop (mean ± std. dev. of 2 runs, 100 loops each)\n"
     ]
    },
    {
     "data": {
      "text/plain": "array([ 0.59569048,  0.99122066, -1.05749929, ..., -0.46755611,\n        1.7602084 , -0.1417008 ])"
     },
     "metadata": {},
     "output_type": "display_data"
    }
   ],
   "source": [
    "@nb.guvectorize([(nb.float64[:], nb.float64[:], nb.float64, nb.float64[:])], '(n),(n),()->(n)', nopython=True, target='parallel')\n",
    "def my_math_func(x, y, a, out):\n",
    "    for i in nb.prange(x.shape[0]):\n",
    "        out[i] = np.sin(x[i]**2) + np.cos(y[i] + a)\n",
    "\n",
    "%timeit -n 100 -r 2 my_math_func(x, y, 10.)\n",
    "display(my_math_func(x, y, 10.))"
   ],
   "metadata": {
    "collapsed": false,
    "ExecuteTime": {
     "end_time": "2023-11-22T16:08:26.187248165Z",
     "start_time": "2023-11-22T16:08:18.238725538Z"
    }
   },
   "id": "7ac06f82b2412d19"
  },
  {
   "cell_type": "code",
   "execution_count": 20,
   "outputs": [
    {
     "name": "stdout",
     "output_type": "stream",
     "text": [
      "33.1 ms ± 710 µs per loop (mean ± std. dev. of 2 runs, 100 loops each)\n"
     ]
    },
    {
     "data": {
      "text/plain": "array([ 0.59569048,  0.99122066, -1.05749929, ..., -0.46755611,\n        1.7602084 , -0.1417008 ])"
     },
     "metadata": {},
     "output_type": "display_data"
    }
   ],
   "source": [
    "def my_math_func(x, y, a):\n",
    "    return np.sin(x**2) + np.cos(y + a)\n",
    "\n",
    "%timeit -n 100 -r 2 my_math_func(x, y, 10)\n",
    "display(my_math_func(x, y, 10))"
   ],
   "metadata": {
    "collapsed": false,
    "ExecuteTime": {
     "end_time": "2023-11-22T16:08:32.857652360Z",
     "start_time": "2023-11-22T16:08:26.187606611Z"
    }
   },
   "id": "3ac78d7b5ecdb241"
  },
  {
   "cell_type": "code",
   "execution_count": 21,
   "outputs": [
    {
     "name": "stdout",
     "output_type": "stream",
     "text": [
      "32.5 ms ± 667 µs per loop (mean ± std. dev. of 2 runs, 100 loops each)\n"
     ]
    },
    {
     "data": {
      "text/plain": "array([ 0.59569048,  0.99122066, -1.05749929, ..., -0.46755611,\n        1.7602084 , -0.1417008 ])"
     },
     "metadata": {},
     "output_type": "display_data"
    }
   ],
   "source": [
    "@nb.njit\n",
    "def my_math_func(x, y, a):\n",
    "    return np.sin(x**2) + np.cos(y + a)\n",
    "\n",
    "%timeit -n 100 -r 2 my_math_func(x, y, 10)\n",
    "display(my_math_func(x, y, 10))"
   ],
   "metadata": {
    "collapsed": false,
    "ExecuteTime": {
     "end_time": "2023-11-22T16:08:39.403735205Z",
     "start_time": "2023-11-22T16:08:32.860758422Z"
    }
   },
   "id": "9b6f3aadbf96ec52"
  },
  {
   "cell_type": "code",
   "execution_count": 22,
   "outputs": [
    {
     "name": "stdout",
     "output_type": "stream",
     "text": [
      "8.73 ms ± 1.76 ms per loop (mean ± std. dev. of 2 runs, 100 loops each)\n"
     ]
    },
    {
     "data": {
      "text/plain": "array([ 0.59569048,  0.99122066, -1.05749929, ..., -0.46755611,\n        1.7602084 , -0.1417008 ])"
     },
     "metadata": {},
     "output_type": "display_data"
    }
   ],
   "source": [
    "@nb.njit(parallel=True)\n",
    "def my_math_func(x, y, a):\n",
    "    return np.sin(x**2) + np.cos(y + a)\n",
    "\n",
    "%timeit -n 100 -r 2 my_math_func(x, y, 10)\n",
    "display(my_math_func(x, y, 10))"
   ],
   "metadata": {
    "collapsed": false,
    "ExecuteTime": {
     "end_time": "2023-11-22T16:08:41.181041916Z",
     "start_time": "2023-11-22T16:08:39.408297746Z"
    }
   },
   "id": "fe0fb05349a7caff"
  },
  {
   "cell_type": "code",
   "execution_count": 23,
   "outputs": [
    {
     "ename": "CudaSupportError",
     "evalue": "Error at driver init: \n\nCUDA driver library cannot be found.\nIf you are sure that a CUDA driver is installed,\ntry setting environment variable NUMBA_CUDA_DRIVER\nwith the file path of the CUDA driver shared library.\n:",
     "output_type": "error",
     "traceback": [
      "\u001B[0;31m---------------------------------------------------------------------------\u001B[0m",
      "\u001B[0;31mCudaSupportError\u001B[0m                          Traceback (most recent call last)",
      "Cell \u001B[0;32mIn[23], line 2\u001B[0m\n\u001B[1;32m      1\u001B[0m \u001B[38;5;129;43m@nb\u001B[39;49m\u001B[38;5;241;43m.\u001B[39;49m\u001B[43mguvectorize\u001B[49m\u001B[43m(\u001B[49m\u001B[43m[\u001B[49m\u001B[43m(\u001B[49m\u001B[43mnb\u001B[49m\u001B[38;5;241;43m.\u001B[39;49m\u001B[43mfloat64\u001B[49m\u001B[43m[\u001B[49m\u001B[43m:\u001B[49m\u001B[43m]\u001B[49m\u001B[43m,\u001B[49m\u001B[43m \u001B[49m\u001B[43mnb\u001B[49m\u001B[38;5;241;43m.\u001B[39;49m\u001B[43mfloat64\u001B[49m\u001B[43m[\u001B[49m\u001B[43m:\u001B[49m\u001B[43m]\u001B[49m\u001B[43m,\u001B[49m\u001B[43m \u001B[49m\u001B[43mnb\u001B[49m\u001B[38;5;241;43m.\u001B[39;49m\u001B[43mfloat64\u001B[49m\u001B[43m,\u001B[49m\u001B[43m \u001B[49m\u001B[43mnb\u001B[49m\u001B[38;5;241;43m.\u001B[39;49m\u001B[43mfloat64\u001B[49m\u001B[43m[\u001B[49m\u001B[43m:\u001B[49m\u001B[43m]\u001B[49m\u001B[43m)\u001B[49m\u001B[43m]\u001B[49m\u001B[43m,\u001B[49m\u001B[43m \u001B[49m\u001B[38;5;124;43m'\u001B[39;49m\u001B[38;5;124;43m(n),(n),()->(n)\u001B[39;49m\u001B[38;5;124;43m'\u001B[39;49m\u001B[43m,\u001B[49m\u001B[43m \u001B[49m\u001B[43mnopython\u001B[49m\u001B[38;5;241;43m=\u001B[39;49m\u001B[38;5;28;43;01mTrue\u001B[39;49;00m\u001B[43m,\u001B[49m\u001B[43m \u001B[49m\u001B[43mtarget\u001B[49m\u001B[38;5;241;43m=\u001B[39;49m\u001B[38;5;124;43m'\u001B[39;49m\u001B[38;5;124;43mcuda\u001B[39;49m\u001B[38;5;124;43m'\u001B[39;49m\u001B[43m)\u001B[49m\n\u001B[0;32m----> 2\u001B[0m \u001B[38;5;28;43;01mdef\u001B[39;49;00m\u001B[43m \u001B[49m\u001B[38;5;21;43mmy_math_func\u001B[39;49m\u001B[43m(\u001B[49m\u001B[43mx\u001B[49m\u001B[43m,\u001B[49m\u001B[43m \u001B[49m\u001B[43my\u001B[49m\u001B[43m,\u001B[49m\u001B[43m \u001B[49m\u001B[43ma\u001B[49m\u001B[43m,\u001B[49m\u001B[43m \u001B[49m\u001B[43mout\u001B[49m\u001B[43m)\u001B[49m\u001B[43m:\u001B[49m\n\u001B[1;32m      3\u001B[0m \u001B[43m    \u001B[49m\u001B[38;5;28;43;01mfor\u001B[39;49;00m\u001B[43m \u001B[49m\u001B[43mi\u001B[49m\u001B[43m \u001B[49m\u001B[38;5;129;43;01min\u001B[39;49;00m\u001B[43m \u001B[49m\u001B[43mnb\u001B[49m\u001B[38;5;241;43m.\u001B[39;49m\u001B[43mprange\u001B[49m\u001B[43m(\u001B[49m\u001B[43mx\u001B[49m\u001B[38;5;241;43m.\u001B[39;49m\u001B[43mshape\u001B[49m\u001B[43m[\u001B[49m\u001B[38;5;241;43m0\u001B[39;49m\u001B[43m]\u001B[49m\u001B[43m)\u001B[49m\u001B[43m:\u001B[49m\n\u001B[1;32m      4\u001B[0m \u001B[43m        \u001B[49m\u001B[43mout\u001B[49m\u001B[43m[\u001B[49m\u001B[43mi\u001B[49m\u001B[43m]\u001B[49m\u001B[43m \u001B[49m\u001B[38;5;241;43m=\u001B[39;49m\u001B[43m \u001B[49m\u001B[43mnp\u001B[49m\u001B[38;5;241;43m.\u001B[39;49m\u001B[43msin\u001B[49m\u001B[43m(\u001B[49m\u001B[43mx\u001B[49m\u001B[43m[\u001B[49m\u001B[43mi\u001B[49m\u001B[43m]\u001B[49m\u001B[38;5;241;43m*\u001B[39;49m\u001B[38;5;241;43m*\u001B[39;49m\u001B[38;5;241;43m2\u001B[39;49m\u001B[43m)\u001B[49m\u001B[43m \u001B[49m\u001B[38;5;241;43m+\u001B[39;49m\u001B[43m \u001B[49m\u001B[43mnp\u001B[49m\u001B[38;5;241;43m.\u001B[39;49m\u001B[43mcos\u001B[49m\u001B[43m(\u001B[49m\u001B[43my\u001B[49m\u001B[43m[\u001B[49m\u001B[43mi\u001B[49m\u001B[43m]\u001B[49m\u001B[43m \u001B[49m\u001B[38;5;241;43m+\u001B[39;49m\u001B[43m \u001B[49m\u001B[43ma\u001B[49m\u001B[43m)\u001B[49m\n",
      "File \u001B[0;32m~/projects/python3-mp-experiments/venv/lib/python3.10/site-packages/numba/np/ufunc/decorators.py:203\u001B[0m, in \u001B[0;36mguvectorize.<locals>.wrap\u001B[0;34m(func)\u001B[0m\n\u001B[1;32m    201\u001B[0m guvec \u001B[38;5;241m=\u001B[39m GUVectorize(func, signature, \u001B[38;5;241m*\u001B[39m\u001B[38;5;241m*\u001B[39mkwargs)\n\u001B[1;32m    202\u001B[0m \u001B[38;5;28;01mfor\u001B[39;00m fty \u001B[38;5;129;01min\u001B[39;00m ftylist:\n\u001B[0;32m--> 203\u001B[0m     \u001B[43mguvec\u001B[49m\u001B[38;5;241;43m.\u001B[39;49m\u001B[43madd\u001B[49m\u001B[43m(\u001B[49m\u001B[43mfty\u001B[49m\u001B[43m)\u001B[49m\n\u001B[1;32m    204\u001B[0m \u001B[38;5;28;01mif\u001B[39;00m \u001B[38;5;28mlen\u001B[39m(ftylist) \u001B[38;5;241m>\u001B[39m \u001B[38;5;241m0\u001B[39m:\n\u001B[1;32m    205\u001B[0m     guvec\u001B[38;5;241m.\u001B[39mdisable_compile()\n",
      "File \u001B[0;32m~/projects/python3-mp-experiments/venv/lib/python3.10/site-packages/numba/np/ufunc/deviceufunc.py:469\u001B[0m, in \u001B[0;36mDeviceGUFuncVectorize.add\u001B[0;34m(self, sig)\u001B[0m\n\u001B[1;32m    465\u001B[0m funcname \u001B[38;5;241m=\u001B[39m \u001B[38;5;28mself\u001B[39m\u001B[38;5;241m.\u001B[39mpy_func\u001B[38;5;241m.\u001B[39m\u001B[38;5;18m__name__\u001B[39m\n\u001B[1;32m    466\u001B[0m src \u001B[38;5;241m=\u001B[39m expand_gufunc_template(\u001B[38;5;28mself\u001B[39m\u001B[38;5;241m.\u001B[39m_kernel_template, indims,\n\u001B[1;32m    467\u001B[0m                              outdims, funcname, args)\n\u001B[0;32m--> 469\u001B[0m glbls \u001B[38;5;241m=\u001B[39m \u001B[38;5;28;43mself\u001B[39;49m\u001B[38;5;241;43m.\u001B[39;49m\u001B[43m_get_globals\u001B[49m\u001B[43m(\u001B[49m\u001B[43msig\u001B[49m\u001B[43m)\u001B[49m\n\u001B[1;32m    471\u001B[0m exec(src, glbls)\n\u001B[1;32m    472\u001B[0m fnobj \u001B[38;5;241m=\u001B[39m glbls[\u001B[38;5;124m'\u001B[39m\u001B[38;5;124m__gufunc_\u001B[39m\u001B[38;5;132;01m{name}\u001B[39;00m\u001B[38;5;124m'\u001B[39m\u001B[38;5;241m.\u001B[39mformat(name\u001B[38;5;241m=\u001B[39mfuncname)]\n",
      "File \u001B[0;32m~/projects/python3-mp-experiments/venv/lib/python3.10/site-packages/numba/cuda/vectorizers.py:248\u001B[0m, in \u001B[0;36mCUDAGUFuncVectorize._get_globals\u001B[0;34m(self, sig)\u001B[0m\n\u001B[1;32m    247\u001B[0m \u001B[38;5;28;01mdef\u001B[39;00m \u001B[38;5;21m_get_globals\u001B[39m(\u001B[38;5;28mself\u001B[39m, sig):\n\u001B[0;32m--> 248\u001B[0m     corefn \u001B[38;5;241m=\u001B[39m \u001B[43mcuda\u001B[49m\u001B[38;5;241;43m.\u001B[39;49m\u001B[43mjit\u001B[49m\u001B[43m(\u001B[49m\u001B[43msig\u001B[49m\u001B[43m,\u001B[49m\u001B[43m \u001B[49m\u001B[43mdevice\u001B[49m\u001B[38;5;241;43m=\u001B[39;49m\u001B[38;5;28;43;01mTrue\u001B[39;49;00m\u001B[43m)\u001B[49m\u001B[43m(\u001B[49m\u001B[38;5;28;43mself\u001B[39;49m\u001B[38;5;241;43m.\u001B[39;49m\u001B[43mpyfunc\u001B[49m\u001B[43m)\u001B[49m\n\u001B[1;32m    249\u001B[0m     glbls \u001B[38;5;241m=\u001B[39m \u001B[38;5;28mself\u001B[39m\u001B[38;5;241m.\u001B[39mpy_func\u001B[38;5;241m.\u001B[39m\u001B[38;5;18m__globals__\u001B[39m\u001B[38;5;241m.\u001B[39mcopy()\n\u001B[1;32m    250\u001B[0m     glbls\u001B[38;5;241m.\u001B[39mupdate({\u001B[38;5;124m'\u001B[39m\u001B[38;5;124m__cuda__\u001B[39m\u001B[38;5;124m'\u001B[39m: cuda,\n\u001B[1;32m    251\u001B[0m                   \u001B[38;5;124m'\u001B[39m\u001B[38;5;124m__core__\u001B[39m\u001B[38;5;124m'\u001B[39m: corefn})\n",
      "File \u001B[0;32m~/projects/python3-mp-experiments/venv/lib/python3.10/site-packages/numba/cuda/decorators.py:131\u001B[0m, in \u001B[0;36mjit.<locals>._jit\u001B[0;34m(func)\u001B[0m\n\u001B[1;32m    129\u001B[0m     \u001B[38;5;28;01mfrom\u001B[39;00m \u001B[38;5;21;01mnumba\u001B[39;00m\u001B[38;5;21;01m.\u001B[39;00m\u001B[38;5;21;01mcore\u001B[39;00m \u001B[38;5;28;01mimport\u001B[39;00m typeinfer\n\u001B[1;32m    130\u001B[0m     \u001B[38;5;28;01mwith\u001B[39;00m typeinfer\u001B[38;5;241m.\u001B[39mregister_dispatcher(disp):\n\u001B[0;32m--> 131\u001B[0m         \u001B[43mdisp\u001B[49m\u001B[38;5;241;43m.\u001B[39;49m\u001B[43mcompile_device\u001B[49m\u001B[43m(\u001B[49m\u001B[43margtypes\u001B[49m\u001B[43m,\u001B[49m\u001B[43m \u001B[49m\u001B[43mrestype\u001B[49m\u001B[43m)\u001B[49m\n\u001B[1;32m    132\u001B[0m \u001B[38;5;28;01melse\u001B[39;00m:\n\u001B[1;32m    133\u001B[0m     disp\u001B[38;5;241m.\u001B[39mcompile(argtypes)\n",
      "File \u001B[0;32m~/projects/python3-mp-experiments/venv/lib/python3.10/site-packages/numba/cuda/dispatcher.py:874\u001B[0m, in \u001B[0;36mCUDADispatcher.compile_device\u001B[0;34m(self, args, return_type)\u001B[0m\n\u001B[1;32m    867\u001B[0m fastmath \u001B[38;5;241m=\u001B[39m \u001B[38;5;28mself\u001B[39m\u001B[38;5;241m.\u001B[39mtargetoptions\u001B[38;5;241m.\u001B[39mget(\u001B[38;5;124m'\u001B[39m\u001B[38;5;124mfastmath\u001B[39m\u001B[38;5;124m'\u001B[39m)\n\u001B[1;32m    869\u001B[0m nvvm_options \u001B[38;5;241m=\u001B[39m {\n\u001B[1;32m    870\u001B[0m     \u001B[38;5;124m'\u001B[39m\u001B[38;5;124mopt\u001B[39m\u001B[38;5;124m'\u001B[39m: \u001B[38;5;241m3\u001B[39m \u001B[38;5;28;01mif\u001B[39;00m \u001B[38;5;28mself\u001B[39m\u001B[38;5;241m.\u001B[39mtargetoptions\u001B[38;5;241m.\u001B[39mget(\u001B[38;5;124m'\u001B[39m\u001B[38;5;124mopt\u001B[39m\u001B[38;5;124m'\u001B[39m) \u001B[38;5;28;01melse\u001B[39;00m \u001B[38;5;241m0\u001B[39m,\n\u001B[1;32m    871\u001B[0m     \u001B[38;5;124m'\u001B[39m\u001B[38;5;124mfastmath\u001B[39m\u001B[38;5;124m'\u001B[39m: fastmath\n\u001B[1;32m    872\u001B[0m }\n\u001B[0;32m--> 874\u001B[0m cc \u001B[38;5;241m=\u001B[39m \u001B[43mget_current_device\u001B[49m\u001B[43m(\u001B[49m\u001B[43m)\u001B[49m\u001B[38;5;241m.\u001B[39mcompute_capability\n\u001B[1;32m    875\u001B[0m cres \u001B[38;5;241m=\u001B[39m compile_cuda(\u001B[38;5;28mself\u001B[39m\u001B[38;5;241m.\u001B[39mpy_func, return_type, args,\n\u001B[1;32m    876\u001B[0m                     debug\u001B[38;5;241m=\u001B[39mdebug,\n\u001B[1;32m    877\u001B[0m                     lineinfo\u001B[38;5;241m=\u001B[39mlineinfo,\n\u001B[0;32m   (...)\u001B[0m\n\u001B[1;32m    880\u001B[0m                     nvvm_options\u001B[38;5;241m=\u001B[39mnvvm_options,\n\u001B[1;32m    881\u001B[0m                     cc\u001B[38;5;241m=\u001B[39mcc)\n\u001B[1;32m    882\u001B[0m \u001B[38;5;28mself\u001B[39m\u001B[38;5;241m.\u001B[39moverloads[args] \u001B[38;5;241m=\u001B[39m cres\n",
      "File \u001B[0;32m~/projects/python3-mp-experiments/venv/lib/python3.10/site-packages/numba/cuda/api.py:443\u001B[0m, in \u001B[0;36mget_current_device\u001B[0;34m()\u001B[0m\n\u001B[1;32m    441\u001B[0m \u001B[38;5;28;01mdef\u001B[39;00m \u001B[38;5;21mget_current_device\u001B[39m():\n\u001B[1;32m    442\u001B[0m     \u001B[38;5;124m\"\u001B[39m\u001B[38;5;124mGet current device associated with the current thread\u001B[39m\u001B[38;5;124m\"\u001B[39m\n\u001B[0;32m--> 443\u001B[0m     \u001B[38;5;28;01mreturn\u001B[39;00m \u001B[43mcurrent_context\u001B[49m\u001B[43m(\u001B[49m\u001B[43m)\u001B[49m\u001B[38;5;241m.\u001B[39mdevice\n",
      "File \u001B[0;32m~/projects/python3-mp-experiments/venv/lib/python3.10/site-packages/numba/cuda/cudadrv/devices.py:220\u001B[0m, in \u001B[0;36mget_context\u001B[0;34m(devnum)\u001B[0m\n\u001B[1;32m    216\u001B[0m \u001B[38;5;28;01mdef\u001B[39;00m \u001B[38;5;21mget_context\u001B[39m(devnum\u001B[38;5;241m=\u001B[39m\u001B[38;5;28;01mNone\u001B[39;00m):\n\u001B[1;32m    217\u001B[0m \u001B[38;5;250m    \u001B[39m\u001B[38;5;124;03m\"\"\"Get the current device or use a device by device number, and\u001B[39;00m\n\u001B[1;32m    218\u001B[0m \u001B[38;5;124;03m    return the CUDA context.\u001B[39;00m\n\u001B[1;32m    219\u001B[0m \u001B[38;5;124;03m    \"\"\"\u001B[39;00m\n\u001B[0;32m--> 220\u001B[0m     \u001B[38;5;28;01mreturn\u001B[39;00m \u001B[43m_runtime\u001B[49m\u001B[38;5;241;43m.\u001B[39;49m\u001B[43mget_or_create_context\u001B[49m\u001B[43m(\u001B[49m\u001B[43mdevnum\u001B[49m\u001B[43m)\u001B[49m\n",
      "File \u001B[0;32m~/projects/python3-mp-experiments/venv/lib/python3.10/site-packages/numba/cuda/cudadrv/devices.py:138\u001B[0m, in \u001B[0;36m_Runtime.get_or_create_context\u001B[0;34m(self, devnum)\u001B[0m\n\u001B[1;32m    136\u001B[0m attached_ctx \u001B[38;5;241m=\u001B[39m \u001B[38;5;28mself\u001B[39m\u001B[38;5;241m.\u001B[39m_get_attached_context()\n\u001B[1;32m    137\u001B[0m \u001B[38;5;28;01mif\u001B[39;00m attached_ctx \u001B[38;5;129;01mis\u001B[39;00m \u001B[38;5;28;01mNone\u001B[39;00m:\n\u001B[0;32m--> 138\u001B[0m     \u001B[38;5;28;01mreturn\u001B[39;00m \u001B[38;5;28;43mself\u001B[39;49m\u001B[38;5;241;43m.\u001B[39;49m\u001B[43m_get_or_create_context_uncached\u001B[49m\u001B[43m(\u001B[49m\u001B[43mdevnum\u001B[49m\u001B[43m)\u001B[49m\n\u001B[1;32m    139\u001B[0m \u001B[38;5;28;01melse\u001B[39;00m:\n\u001B[1;32m    140\u001B[0m     \u001B[38;5;28;01mreturn\u001B[39;00m attached_ctx\n",
      "File \u001B[0;32m~/projects/python3-mp-experiments/venv/lib/python3.10/site-packages/numba/cuda/cudadrv/devices.py:153\u001B[0m, in \u001B[0;36m_Runtime._get_or_create_context_uncached\u001B[0;34m(self, devnum)\u001B[0m\n\u001B[1;32m    147\u001B[0m \u001B[38;5;250m\u001B[39m\u001B[38;5;124;03m\"\"\"See also ``get_or_create_context(devnum)``.\u001B[39;00m\n\u001B[1;32m    148\u001B[0m \u001B[38;5;124;03mThis version does not read the cache.\u001B[39;00m\n\u001B[1;32m    149\u001B[0m \u001B[38;5;124;03m\"\"\"\u001B[39;00m\n\u001B[1;32m    150\u001B[0m \u001B[38;5;28;01mwith\u001B[39;00m \u001B[38;5;28mself\u001B[39m\u001B[38;5;241m.\u001B[39m_lock:\n\u001B[1;32m    151\u001B[0m     \u001B[38;5;66;03m# Try to get the active context in the CUDA stack or\u001B[39;00m\n\u001B[1;32m    152\u001B[0m     \u001B[38;5;66;03m# activate GPU-0 with the primary context\u001B[39;00m\n\u001B[0;32m--> 153\u001B[0m     \u001B[38;5;28;01mwith\u001B[39;00m driver\u001B[38;5;241m.\u001B[39mget_active_context() \u001B[38;5;28;01mas\u001B[39;00m ac:\n\u001B[1;32m    154\u001B[0m         \u001B[38;5;28;01mif\u001B[39;00m \u001B[38;5;129;01mnot\u001B[39;00m ac:\n\u001B[1;32m    155\u001B[0m             \u001B[38;5;28;01mreturn\u001B[39;00m \u001B[38;5;28mself\u001B[39m\u001B[38;5;241m.\u001B[39m_activate_context_for(\u001B[38;5;241m0\u001B[39m)\n",
      "File \u001B[0;32m~/projects/python3-mp-experiments/venv/lib/python3.10/site-packages/numba/cuda/cudadrv/driver.py:495\u001B[0m, in \u001B[0;36m_ActiveContext.__enter__\u001B[0;34m(self)\u001B[0m\n\u001B[1;32m    493\u001B[0m \u001B[38;5;28;01melse\u001B[39;00m:\n\u001B[1;32m    494\u001B[0m     hctx \u001B[38;5;241m=\u001B[39m drvapi\u001B[38;5;241m.\u001B[39mcu_context(\u001B[38;5;241m0\u001B[39m)\n\u001B[0;32m--> 495\u001B[0m     \u001B[43mdriver\u001B[49m\u001B[38;5;241;43m.\u001B[39;49m\u001B[43mcuCtxGetCurrent\u001B[49m(byref(hctx))\n\u001B[1;32m    496\u001B[0m     hctx \u001B[38;5;241m=\u001B[39m hctx \u001B[38;5;28;01mif\u001B[39;00m hctx\u001B[38;5;241m.\u001B[39mvalue \u001B[38;5;28;01melse\u001B[39;00m \u001B[38;5;28;01mNone\u001B[39;00m\n\u001B[1;32m    498\u001B[0m \u001B[38;5;28;01mif\u001B[39;00m hctx \u001B[38;5;129;01mis\u001B[39;00m \u001B[38;5;28;01mNone\u001B[39;00m:\n",
      "File \u001B[0;32m~/projects/python3-mp-experiments/venv/lib/python3.10/site-packages/numba/cuda/cudadrv/driver.py:295\u001B[0m, in \u001B[0;36mDriver.__getattr__\u001B[0;34m(self, fname)\u001B[0m\n\u001B[1;32m    292\u001B[0m \u001B[38;5;28mself\u001B[39m\u001B[38;5;241m.\u001B[39mensure_initialized()\n\u001B[1;32m    294\u001B[0m \u001B[38;5;28;01mif\u001B[39;00m \u001B[38;5;28mself\u001B[39m\u001B[38;5;241m.\u001B[39minitialization_error \u001B[38;5;129;01mis\u001B[39;00m \u001B[38;5;129;01mnot\u001B[39;00m \u001B[38;5;28;01mNone\u001B[39;00m:\n\u001B[0;32m--> 295\u001B[0m     \u001B[38;5;28;01mraise\u001B[39;00m CudaSupportError(\u001B[38;5;124m\"\u001B[39m\u001B[38;5;124mError at driver init: \u001B[39m\u001B[38;5;130;01m\\n\u001B[39;00m\u001B[38;5;132;01m%s\u001B[39;00m\u001B[38;5;124m:\u001B[39m\u001B[38;5;124m\"\u001B[39m \u001B[38;5;241m%\u001B[39m\n\u001B[1;32m    296\u001B[0m                            \u001B[38;5;28mself\u001B[39m\u001B[38;5;241m.\u001B[39minitialization_error)\n\u001B[1;32m    298\u001B[0m \u001B[38;5;28;01mif\u001B[39;00m USE_NV_BINDING:\n\u001B[1;32m    299\u001B[0m     \u001B[38;5;28;01mreturn\u001B[39;00m \u001B[38;5;28mself\u001B[39m\u001B[38;5;241m.\u001B[39m_cuda_python_wrap_fn(fname)\n",
      "\u001B[0;31mCudaSupportError\u001B[0m: Error at driver init: \n\nCUDA driver library cannot be found.\nIf you are sure that a CUDA driver is installed,\ntry setting environment variable NUMBA_CUDA_DRIVER\nwith the file path of the CUDA driver shared library.\n:"
     ]
    }
   ],
   "source": [
    "@nb.guvectorize([(nb.float64[:], nb.float64[:], nb.float64, nb.float64[:])], '(n),(n),()->(n)', nopython=True, target='cuda')\n",
    "def my_math_func(x, y, a, out):\n",
    "    for i in nb.prange(x.shape[0]):\n",
    "        out[i] = np.sin(x[i]**2) + np.cos(y[i] + a)\n",
    "\n",
    "%timeit -n 10 -r 2 my_math_func(x, y, 10.)\n",
    "display(my_math_func(x, y, 10.))"
   ],
   "metadata": {
    "collapsed": false,
    "ExecuteTime": {
     "end_time": "2023-11-22T16:08:41.436689696Z",
     "start_time": "2023-11-22T16:08:41.179318447Z"
    }
   },
   "id": "2733e2f186b96322"
  },
  {
   "cell_type": "code",
   "execution_count": null,
   "outputs": [],
   "source": [
    "@nb.guvectorize([(nb.float64[:], nb.float64[:], nb.float64, nb.float64[:])], '(n),(n),()->(n)', nopython=True, target='cuda')\n",
    "def my_math_func(x, y, a, out):\n",
    "    for i in nb.prange(x.shape[0]):\n",
    "        out[i] = np.sin(x[i]**2) + np.cos(y[i] + a)\n",
    "\n",
    "x_ = x.reshape(100, 100, 100, -1)\n",
    "y_ = y.reshape(100, 100, 100, -1)\n",
    "\n",
    "%timeit -n 100 -r 2 my_math_func(x_, y_, 10.)\n",
    "display(my_math_func(x_, y_, 10.).reshape(-1))"
   ],
   "metadata": {
    "collapsed": false,
    "ExecuteTime": {
     "start_time": "2023-11-22T16:08:41.437692097Z"
    }
   },
   "id": "332cad3b4113ab72"
  },
  {
   "cell_type": "markdown",
   "source": [
    "# add_scalars(x, y)"
   ],
   "metadata": {
    "collapsed": false
   },
   "id": "f02b78469c75dab8"
  },
  {
   "cell_type": "code",
   "execution_count": 2,
   "outputs": [
    {
     "data": {
      "text/plain": "(100000000,)"
     },
     "metadata": {},
     "output_type": "display_data"
    },
    {
     "data": {
      "text/plain": "array([65., 50.,  5., ..., 70., 57., 53.])"
     },
     "metadata": {},
     "output_type": "display_data"
    },
    {
     "data": {
      "text/plain": "(100000000,)"
     },
     "metadata": {},
     "output_type": "display_data"
    },
    {
     "data": {
      "text/plain": "array([40., 50., 23., ..., 18., 56., 95.])"
     },
     "metadata": {},
     "output_type": "display_data"
    }
   ],
   "source": [
    "x = np.random.randint(low=0, high=100, size=100000000).astype(np.float64)\n",
    "y = np.random.randint(low=0, high=100, size=100000000).astype(np.float64)\n",
    "display(x.shape, x)\n",
    "display(y.shape, y)"
   ],
   "metadata": {
    "collapsed": false,
    "ExecuteTime": {
     "end_time": "2023-11-22T17:15:41.392750114Z",
     "start_time": "2023-11-22T17:15:39.191611241Z"
    }
   },
   "id": "7ed87c364cfa10c9"
  },
  {
   "cell_type": "code",
   "execution_count": 3,
   "outputs": [
    {
     "name": "stdout",
     "output_type": "stream",
     "text": [
      "331 ms ± 1.21 ms per loop (mean ± std. dev. of 2 runs, 10 loops each)\n"
     ]
    },
    {
     "data": {
      "text/plain": "array([105., 100.,  28., ...,  88., 113., 148.])"
     },
     "metadata": {},
     "output_type": "display_data"
    }
   ],
   "source": [
    "@nb.njit\n",
    "def add_scalars(x, y):\n",
    "    out = np.empty(x.shape[0], dtype=np.float64)\n",
    "    for i in nb.prange(x.shape[0]):\n",
    "        out[i] = x[i] + y[i]\n",
    "    return out\n",
    "\n",
    "%timeit -n 10 -r 2 add_scalars(x, y)\n",
    "display(add_scalars(x, y))"
   ],
   "metadata": {
    "collapsed": false,
    "ExecuteTime": {
     "end_time": "2023-11-22T17:15:48.349502432Z",
     "start_time": "2023-11-22T17:15:41.394476309Z"
    }
   },
   "id": "6fae1e559265d8be"
  },
  {
   "cell_type": "code",
   "execution_count": 4,
   "outputs": [
    {
     "name": "stdout",
     "output_type": "stream",
     "text": [
      "105 ms ± 13.8 ms per loop (mean ± std. dev. of 2 runs, 10 loops each)\n"
     ]
    },
    {
     "data": {
      "text/plain": "array([105., 100.,  28., ...,  88., 113., 148.])"
     },
     "metadata": {},
     "output_type": "display_data"
    }
   ],
   "source": [
    "@nb.njit(parallel=True)\n",
    "def add_scalars(x, y):\n",
    "    out = np.empty(x.shape[0], dtype=np.float64)\n",
    "    for i in nb.prange(x.shape[0]):\n",
    "        out[i] = x[i] + y[i]\n",
    "    return out\n",
    "\n",
    "%timeit -n 10 -r 2 add_scalars(x, y)\n",
    "display(add_scalars(x, y))"
   ],
   "metadata": {
    "collapsed": false,
    "ExecuteTime": {
     "end_time": "2023-11-22T17:15:50.576105190Z",
     "start_time": "2023-11-22T17:15:48.350224023Z"
    }
   },
   "id": "457058e1aa48dc4a"
  },
  {
   "cell_type": "code",
   "execution_count": 5,
   "outputs": [
    {
     "ename": "CudaSupportError",
     "evalue": "Error at driver init: \n\nCUDA driver library cannot be found.\nIf you are sure that a CUDA driver is installed,\ntry setting environment variable NUMBA_CUDA_DRIVER\nwith the file path of the CUDA driver shared library.\n:",
     "output_type": "error",
     "traceback": [
      "\u001B[0;31m---------------------------------------------------------------------------\u001B[0m",
      "\u001B[0;31mCudaSupportError\u001B[0m                          Traceback (most recent call last)",
      "Cell \u001B[0;32mIn[5], line 2\u001B[0m\n\u001B[1;32m      1\u001B[0m \u001B[38;5;129;43m@nb\u001B[39;49m\u001B[38;5;241;43m.\u001B[39;49m\u001B[43mguvectorize\u001B[49m\u001B[43m(\u001B[49m\u001B[43m[\u001B[49m\u001B[43m(\u001B[49m\u001B[43mnb\u001B[49m\u001B[38;5;241;43m.\u001B[39;49m\u001B[43mfloat64\u001B[49m\u001B[43m[\u001B[49m\u001B[43m:\u001B[49m\u001B[43m]\u001B[49m\u001B[43m,\u001B[49m\u001B[43m \u001B[49m\u001B[43mnb\u001B[49m\u001B[38;5;241;43m.\u001B[39;49m\u001B[43mfloat64\u001B[49m\u001B[43m[\u001B[49m\u001B[43m:\u001B[49m\u001B[43m]\u001B[49m\u001B[43m,\u001B[49m\u001B[43m \u001B[49m\u001B[43mnb\u001B[49m\u001B[38;5;241;43m.\u001B[39;49m\u001B[43mfloat64\u001B[49m\u001B[43m[\u001B[49m\u001B[43m:\u001B[49m\u001B[43m]\u001B[49m\u001B[43m)\u001B[49m\u001B[43m]\u001B[49m\u001B[43m,\u001B[49m\u001B[43m \u001B[49m\u001B[38;5;124;43m'\u001B[39;49m\u001B[38;5;124;43m(n),(n)->(n)\u001B[39;49m\u001B[38;5;124;43m'\u001B[39;49m\u001B[43m,\u001B[49m\u001B[43m \u001B[49m\u001B[43mnopython\u001B[49m\u001B[38;5;241;43m=\u001B[39;49m\u001B[38;5;28;43;01mTrue\u001B[39;49;00m\u001B[43m,\u001B[49m\u001B[43m \u001B[49m\u001B[43mtarget\u001B[49m\u001B[38;5;241;43m=\u001B[39;49m\u001B[38;5;124;43m'\u001B[39;49m\u001B[38;5;124;43mcuda\u001B[39;49m\u001B[38;5;124;43m'\u001B[39;49m\u001B[43m)\u001B[49m\n\u001B[0;32m----> 2\u001B[0m \u001B[38;5;28;43;01mdef\u001B[39;49;00m\u001B[43m \u001B[49m\u001B[38;5;21;43madd_scalars\u001B[39;49m\u001B[43m(\u001B[49m\u001B[43mx\u001B[49m\u001B[43m,\u001B[49m\u001B[43m \u001B[49m\u001B[43my\u001B[49m\u001B[43m,\u001B[49m\u001B[43m \u001B[49m\u001B[43mout\u001B[49m\u001B[43m)\u001B[49m\u001B[43m:\u001B[49m\n\u001B[1;32m      3\u001B[0m \u001B[43m    \u001B[49m\u001B[38;5;28;43;01mfor\u001B[39;49;00m\u001B[43m \u001B[49m\u001B[43mi\u001B[49m\u001B[43m \u001B[49m\u001B[38;5;129;43;01min\u001B[39;49;00m\u001B[43m \u001B[49m\u001B[43mnb\u001B[49m\u001B[38;5;241;43m.\u001B[39;49m\u001B[43mprange\u001B[49m\u001B[43m(\u001B[49m\u001B[43mx\u001B[49m\u001B[38;5;241;43m.\u001B[39;49m\u001B[43mshape\u001B[49m\u001B[43m[\u001B[49m\u001B[38;5;241;43m0\u001B[39;49m\u001B[43m]\u001B[49m\u001B[43m)\u001B[49m\u001B[43m:\u001B[49m\n\u001B[1;32m      4\u001B[0m \u001B[43m        \u001B[49m\u001B[43mout\u001B[49m\u001B[43m[\u001B[49m\u001B[43mi\u001B[49m\u001B[43m]\u001B[49m\u001B[43m \u001B[49m\u001B[38;5;241;43m=\u001B[39;49m\u001B[43m \u001B[49m\u001B[43mx\u001B[49m\u001B[43m[\u001B[49m\u001B[43mi\u001B[49m\u001B[43m]\u001B[49m\u001B[43m \u001B[49m\u001B[38;5;241;43m+\u001B[39;49m\u001B[43m \u001B[49m\u001B[43my\u001B[49m\u001B[43m[\u001B[49m\u001B[43mi\u001B[49m\u001B[43m]\u001B[49m\n",
      "File \u001B[0;32m~/projects/python3-mp-experiments/venv/lib/python3.10/site-packages/numba/np/ufunc/decorators.py:203\u001B[0m, in \u001B[0;36mguvectorize.<locals>.wrap\u001B[0;34m(func)\u001B[0m\n\u001B[1;32m    201\u001B[0m guvec \u001B[38;5;241m=\u001B[39m GUVectorize(func, signature, \u001B[38;5;241m*\u001B[39m\u001B[38;5;241m*\u001B[39mkwargs)\n\u001B[1;32m    202\u001B[0m \u001B[38;5;28;01mfor\u001B[39;00m fty \u001B[38;5;129;01min\u001B[39;00m ftylist:\n\u001B[0;32m--> 203\u001B[0m     \u001B[43mguvec\u001B[49m\u001B[38;5;241;43m.\u001B[39;49m\u001B[43madd\u001B[49m\u001B[43m(\u001B[49m\u001B[43mfty\u001B[49m\u001B[43m)\u001B[49m\n\u001B[1;32m    204\u001B[0m \u001B[38;5;28;01mif\u001B[39;00m \u001B[38;5;28mlen\u001B[39m(ftylist) \u001B[38;5;241m>\u001B[39m \u001B[38;5;241m0\u001B[39m:\n\u001B[1;32m    205\u001B[0m     guvec\u001B[38;5;241m.\u001B[39mdisable_compile()\n",
      "File \u001B[0;32m~/projects/python3-mp-experiments/venv/lib/python3.10/site-packages/numba/np/ufunc/deviceufunc.py:469\u001B[0m, in \u001B[0;36mDeviceGUFuncVectorize.add\u001B[0;34m(self, sig)\u001B[0m\n\u001B[1;32m    465\u001B[0m funcname \u001B[38;5;241m=\u001B[39m \u001B[38;5;28mself\u001B[39m\u001B[38;5;241m.\u001B[39mpy_func\u001B[38;5;241m.\u001B[39m\u001B[38;5;18m__name__\u001B[39m\n\u001B[1;32m    466\u001B[0m src \u001B[38;5;241m=\u001B[39m expand_gufunc_template(\u001B[38;5;28mself\u001B[39m\u001B[38;5;241m.\u001B[39m_kernel_template, indims,\n\u001B[1;32m    467\u001B[0m                              outdims, funcname, args)\n\u001B[0;32m--> 469\u001B[0m glbls \u001B[38;5;241m=\u001B[39m \u001B[38;5;28;43mself\u001B[39;49m\u001B[38;5;241;43m.\u001B[39;49m\u001B[43m_get_globals\u001B[49m\u001B[43m(\u001B[49m\u001B[43msig\u001B[49m\u001B[43m)\u001B[49m\n\u001B[1;32m    471\u001B[0m exec(src, glbls)\n\u001B[1;32m    472\u001B[0m fnobj \u001B[38;5;241m=\u001B[39m glbls[\u001B[38;5;124m'\u001B[39m\u001B[38;5;124m__gufunc_\u001B[39m\u001B[38;5;132;01m{name}\u001B[39;00m\u001B[38;5;124m'\u001B[39m\u001B[38;5;241m.\u001B[39mformat(name\u001B[38;5;241m=\u001B[39mfuncname)]\n",
      "File \u001B[0;32m~/projects/python3-mp-experiments/venv/lib/python3.10/site-packages/numba/cuda/vectorizers.py:248\u001B[0m, in \u001B[0;36mCUDAGUFuncVectorize._get_globals\u001B[0;34m(self, sig)\u001B[0m\n\u001B[1;32m    247\u001B[0m \u001B[38;5;28;01mdef\u001B[39;00m \u001B[38;5;21m_get_globals\u001B[39m(\u001B[38;5;28mself\u001B[39m, sig):\n\u001B[0;32m--> 248\u001B[0m     corefn \u001B[38;5;241m=\u001B[39m \u001B[43mcuda\u001B[49m\u001B[38;5;241;43m.\u001B[39;49m\u001B[43mjit\u001B[49m\u001B[43m(\u001B[49m\u001B[43msig\u001B[49m\u001B[43m,\u001B[49m\u001B[43m \u001B[49m\u001B[43mdevice\u001B[49m\u001B[38;5;241;43m=\u001B[39;49m\u001B[38;5;28;43;01mTrue\u001B[39;49;00m\u001B[43m)\u001B[49m\u001B[43m(\u001B[49m\u001B[38;5;28;43mself\u001B[39;49m\u001B[38;5;241;43m.\u001B[39;49m\u001B[43mpyfunc\u001B[49m\u001B[43m)\u001B[49m\n\u001B[1;32m    249\u001B[0m     glbls \u001B[38;5;241m=\u001B[39m \u001B[38;5;28mself\u001B[39m\u001B[38;5;241m.\u001B[39mpy_func\u001B[38;5;241m.\u001B[39m\u001B[38;5;18m__globals__\u001B[39m\u001B[38;5;241m.\u001B[39mcopy()\n\u001B[1;32m    250\u001B[0m     glbls\u001B[38;5;241m.\u001B[39mupdate({\u001B[38;5;124m'\u001B[39m\u001B[38;5;124m__cuda__\u001B[39m\u001B[38;5;124m'\u001B[39m: cuda,\n\u001B[1;32m    251\u001B[0m                   \u001B[38;5;124m'\u001B[39m\u001B[38;5;124m__core__\u001B[39m\u001B[38;5;124m'\u001B[39m: corefn})\n",
      "File \u001B[0;32m~/projects/python3-mp-experiments/venv/lib/python3.10/site-packages/numba/cuda/decorators.py:131\u001B[0m, in \u001B[0;36mjit.<locals>._jit\u001B[0;34m(func)\u001B[0m\n\u001B[1;32m    129\u001B[0m     \u001B[38;5;28;01mfrom\u001B[39;00m \u001B[38;5;21;01mnumba\u001B[39;00m\u001B[38;5;21;01m.\u001B[39;00m\u001B[38;5;21;01mcore\u001B[39;00m \u001B[38;5;28;01mimport\u001B[39;00m typeinfer\n\u001B[1;32m    130\u001B[0m     \u001B[38;5;28;01mwith\u001B[39;00m typeinfer\u001B[38;5;241m.\u001B[39mregister_dispatcher(disp):\n\u001B[0;32m--> 131\u001B[0m         \u001B[43mdisp\u001B[49m\u001B[38;5;241;43m.\u001B[39;49m\u001B[43mcompile_device\u001B[49m\u001B[43m(\u001B[49m\u001B[43margtypes\u001B[49m\u001B[43m,\u001B[49m\u001B[43m \u001B[49m\u001B[43mrestype\u001B[49m\u001B[43m)\u001B[49m\n\u001B[1;32m    132\u001B[0m \u001B[38;5;28;01melse\u001B[39;00m:\n\u001B[1;32m    133\u001B[0m     disp\u001B[38;5;241m.\u001B[39mcompile(argtypes)\n",
      "File \u001B[0;32m~/projects/python3-mp-experiments/venv/lib/python3.10/site-packages/numba/cuda/dispatcher.py:874\u001B[0m, in \u001B[0;36mCUDADispatcher.compile_device\u001B[0;34m(self, args, return_type)\u001B[0m\n\u001B[1;32m    867\u001B[0m fastmath \u001B[38;5;241m=\u001B[39m \u001B[38;5;28mself\u001B[39m\u001B[38;5;241m.\u001B[39mtargetoptions\u001B[38;5;241m.\u001B[39mget(\u001B[38;5;124m'\u001B[39m\u001B[38;5;124mfastmath\u001B[39m\u001B[38;5;124m'\u001B[39m)\n\u001B[1;32m    869\u001B[0m nvvm_options \u001B[38;5;241m=\u001B[39m {\n\u001B[1;32m    870\u001B[0m     \u001B[38;5;124m'\u001B[39m\u001B[38;5;124mopt\u001B[39m\u001B[38;5;124m'\u001B[39m: \u001B[38;5;241m3\u001B[39m \u001B[38;5;28;01mif\u001B[39;00m \u001B[38;5;28mself\u001B[39m\u001B[38;5;241m.\u001B[39mtargetoptions\u001B[38;5;241m.\u001B[39mget(\u001B[38;5;124m'\u001B[39m\u001B[38;5;124mopt\u001B[39m\u001B[38;5;124m'\u001B[39m) \u001B[38;5;28;01melse\u001B[39;00m \u001B[38;5;241m0\u001B[39m,\n\u001B[1;32m    871\u001B[0m     \u001B[38;5;124m'\u001B[39m\u001B[38;5;124mfastmath\u001B[39m\u001B[38;5;124m'\u001B[39m: fastmath\n\u001B[1;32m    872\u001B[0m }\n\u001B[0;32m--> 874\u001B[0m cc \u001B[38;5;241m=\u001B[39m \u001B[43mget_current_device\u001B[49m\u001B[43m(\u001B[49m\u001B[43m)\u001B[49m\u001B[38;5;241m.\u001B[39mcompute_capability\n\u001B[1;32m    875\u001B[0m cres \u001B[38;5;241m=\u001B[39m compile_cuda(\u001B[38;5;28mself\u001B[39m\u001B[38;5;241m.\u001B[39mpy_func, return_type, args,\n\u001B[1;32m    876\u001B[0m                     debug\u001B[38;5;241m=\u001B[39mdebug,\n\u001B[1;32m    877\u001B[0m                     lineinfo\u001B[38;5;241m=\u001B[39mlineinfo,\n\u001B[0;32m   (...)\u001B[0m\n\u001B[1;32m    880\u001B[0m                     nvvm_options\u001B[38;5;241m=\u001B[39mnvvm_options,\n\u001B[1;32m    881\u001B[0m                     cc\u001B[38;5;241m=\u001B[39mcc)\n\u001B[1;32m    882\u001B[0m \u001B[38;5;28mself\u001B[39m\u001B[38;5;241m.\u001B[39moverloads[args] \u001B[38;5;241m=\u001B[39m cres\n",
      "File \u001B[0;32m~/projects/python3-mp-experiments/venv/lib/python3.10/site-packages/numba/cuda/api.py:443\u001B[0m, in \u001B[0;36mget_current_device\u001B[0;34m()\u001B[0m\n\u001B[1;32m    441\u001B[0m \u001B[38;5;28;01mdef\u001B[39;00m \u001B[38;5;21mget_current_device\u001B[39m():\n\u001B[1;32m    442\u001B[0m     \u001B[38;5;124m\"\u001B[39m\u001B[38;5;124mGet current device associated with the current thread\u001B[39m\u001B[38;5;124m\"\u001B[39m\n\u001B[0;32m--> 443\u001B[0m     \u001B[38;5;28;01mreturn\u001B[39;00m \u001B[43mcurrent_context\u001B[49m\u001B[43m(\u001B[49m\u001B[43m)\u001B[49m\u001B[38;5;241m.\u001B[39mdevice\n",
      "File \u001B[0;32m~/projects/python3-mp-experiments/venv/lib/python3.10/site-packages/numba/cuda/cudadrv/devices.py:220\u001B[0m, in \u001B[0;36mget_context\u001B[0;34m(devnum)\u001B[0m\n\u001B[1;32m    216\u001B[0m \u001B[38;5;28;01mdef\u001B[39;00m \u001B[38;5;21mget_context\u001B[39m(devnum\u001B[38;5;241m=\u001B[39m\u001B[38;5;28;01mNone\u001B[39;00m):\n\u001B[1;32m    217\u001B[0m \u001B[38;5;250m    \u001B[39m\u001B[38;5;124;03m\"\"\"Get the current device or use a device by device number, and\u001B[39;00m\n\u001B[1;32m    218\u001B[0m \u001B[38;5;124;03m    return the CUDA context.\u001B[39;00m\n\u001B[1;32m    219\u001B[0m \u001B[38;5;124;03m    \"\"\"\u001B[39;00m\n\u001B[0;32m--> 220\u001B[0m     \u001B[38;5;28;01mreturn\u001B[39;00m \u001B[43m_runtime\u001B[49m\u001B[38;5;241;43m.\u001B[39;49m\u001B[43mget_or_create_context\u001B[49m\u001B[43m(\u001B[49m\u001B[43mdevnum\u001B[49m\u001B[43m)\u001B[49m\n",
      "File \u001B[0;32m~/projects/python3-mp-experiments/venv/lib/python3.10/site-packages/numba/cuda/cudadrv/devices.py:138\u001B[0m, in \u001B[0;36m_Runtime.get_or_create_context\u001B[0;34m(self, devnum)\u001B[0m\n\u001B[1;32m    136\u001B[0m attached_ctx \u001B[38;5;241m=\u001B[39m \u001B[38;5;28mself\u001B[39m\u001B[38;5;241m.\u001B[39m_get_attached_context()\n\u001B[1;32m    137\u001B[0m \u001B[38;5;28;01mif\u001B[39;00m attached_ctx \u001B[38;5;129;01mis\u001B[39;00m \u001B[38;5;28;01mNone\u001B[39;00m:\n\u001B[0;32m--> 138\u001B[0m     \u001B[38;5;28;01mreturn\u001B[39;00m \u001B[38;5;28;43mself\u001B[39;49m\u001B[38;5;241;43m.\u001B[39;49m\u001B[43m_get_or_create_context_uncached\u001B[49m\u001B[43m(\u001B[49m\u001B[43mdevnum\u001B[49m\u001B[43m)\u001B[49m\n\u001B[1;32m    139\u001B[0m \u001B[38;5;28;01melse\u001B[39;00m:\n\u001B[1;32m    140\u001B[0m     \u001B[38;5;28;01mreturn\u001B[39;00m attached_ctx\n",
      "File \u001B[0;32m~/projects/python3-mp-experiments/venv/lib/python3.10/site-packages/numba/cuda/cudadrv/devices.py:153\u001B[0m, in \u001B[0;36m_Runtime._get_or_create_context_uncached\u001B[0;34m(self, devnum)\u001B[0m\n\u001B[1;32m    147\u001B[0m \u001B[38;5;250m\u001B[39m\u001B[38;5;124;03m\"\"\"See also ``get_or_create_context(devnum)``.\u001B[39;00m\n\u001B[1;32m    148\u001B[0m \u001B[38;5;124;03mThis version does not read the cache.\u001B[39;00m\n\u001B[1;32m    149\u001B[0m \u001B[38;5;124;03m\"\"\"\u001B[39;00m\n\u001B[1;32m    150\u001B[0m \u001B[38;5;28;01mwith\u001B[39;00m \u001B[38;5;28mself\u001B[39m\u001B[38;5;241m.\u001B[39m_lock:\n\u001B[1;32m    151\u001B[0m     \u001B[38;5;66;03m# Try to get the active context in the CUDA stack or\u001B[39;00m\n\u001B[1;32m    152\u001B[0m     \u001B[38;5;66;03m# activate GPU-0 with the primary context\u001B[39;00m\n\u001B[0;32m--> 153\u001B[0m     \u001B[38;5;28;01mwith\u001B[39;00m driver\u001B[38;5;241m.\u001B[39mget_active_context() \u001B[38;5;28;01mas\u001B[39;00m ac:\n\u001B[1;32m    154\u001B[0m         \u001B[38;5;28;01mif\u001B[39;00m \u001B[38;5;129;01mnot\u001B[39;00m ac:\n\u001B[1;32m    155\u001B[0m             \u001B[38;5;28;01mreturn\u001B[39;00m \u001B[38;5;28mself\u001B[39m\u001B[38;5;241m.\u001B[39m_activate_context_for(\u001B[38;5;241m0\u001B[39m)\n",
      "File \u001B[0;32m~/projects/python3-mp-experiments/venv/lib/python3.10/site-packages/numba/cuda/cudadrv/driver.py:495\u001B[0m, in \u001B[0;36m_ActiveContext.__enter__\u001B[0;34m(self)\u001B[0m\n\u001B[1;32m    493\u001B[0m \u001B[38;5;28;01melse\u001B[39;00m:\n\u001B[1;32m    494\u001B[0m     hctx \u001B[38;5;241m=\u001B[39m drvapi\u001B[38;5;241m.\u001B[39mcu_context(\u001B[38;5;241m0\u001B[39m)\n\u001B[0;32m--> 495\u001B[0m     \u001B[43mdriver\u001B[49m\u001B[38;5;241;43m.\u001B[39;49m\u001B[43mcuCtxGetCurrent\u001B[49m(byref(hctx))\n\u001B[1;32m    496\u001B[0m     hctx \u001B[38;5;241m=\u001B[39m hctx \u001B[38;5;28;01mif\u001B[39;00m hctx\u001B[38;5;241m.\u001B[39mvalue \u001B[38;5;28;01melse\u001B[39;00m \u001B[38;5;28;01mNone\u001B[39;00m\n\u001B[1;32m    498\u001B[0m \u001B[38;5;28;01mif\u001B[39;00m hctx \u001B[38;5;129;01mis\u001B[39;00m \u001B[38;5;28;01mNone\u001B[39;00m:\n",
      "File \u001B[0;32m~/projects/python3-mp-experiments/venv/lib/python3.10/site-packages/numba/cuda/cudadrv/driver.py:295\u001B[0m, in \u001B[0;36mDriver.__getattr__\u001B[0;34m(self, fname)\u001B[0m\n\u001B[1;32m    292\u001B[0m \u001B[38;5;28mself\u001B[39m\u001B[38;5;241m.\u001B[39mensure_initialized()\n\u001B[1;32m    294\u001B[0m \u001B[38;5;28;01mif\u001B[39;00m \u001B[38;5;28mself\u001B[39m\u001B[38;5;241m.\u001B[39minitialization_error \u001B[38;5;129;01mis\u001B[39;00m \u001B[38;5;129;01mnot\u001B[39;00m \u001B[38;5;28;01mNone\u001B[39;00m:\n\u001B[0;32m--> 295\u001B[0m     \u001B[38;5;28;01mraise\u001B[39;00m CudaSupportError(\u001B[38;5;124m\"\u001B[39m\u001B[38;5;124mError at driver init: \u001B[39m\u001B[38;5;130;01m\\n\u001B[39;00m\u001B[38;5;132;01m%s\u001B[39;00m\u001B[38;5;124m:\u001B[39m\u001B[38;5;124m\"\u001B[39m \u001B[38;5;241m%\u001B[39m\n\u001B[1;32m    296\u001B[0m                            \u001B[38;5;28mself\u001B[39m\u001B[38;5;241m.\u001B[39minitialization_error)\n\u001B[1;32m    298\u001B[0m \u001B[38;5;28;01mif\u001B[39;00m USE_NV_BINDING:\n\u001B[1;32m    299\u001B[0m     \u001B[38;5;28;01mreturn\u001B[39;00m \u001B[38;5;28mself\u001B[39m\u001B[38;5;241m.\u001B[39m_cuda_python_wrap_fn(fname)\n",
      "\u001B[0;31mCudaSupportError\u001B[0m: Error at driver init: \n\nCUDA driver library cannot be found.\nIf you are sure that a CUDA driver is installed,\ntry setting environment variable NUMBA_CUDA_DRIVER\nwith the file path of the CUDA driver shared library.\n:"
     ]
    }
   ],
   "source": [
    "@nb.guvectorize([(nb.float64[:], nb.float64[:], nb.float64[:])], '(n),(n)->(n)', nopython=True, target='cuda')\n",
    "def add_scalars(x, y, out):\n",
    "    for i in nb.prange(x.shape[0]):\n",
    "        out[i] = x[i] + y[i]\n",
    "\n",
    "x_ = x.reshape(100, 100, 100, 100, -1)\n",
    "y_ = y.reshape(100, 100, 100, 100, -1)\n",
    "\n",
    "%timeit -n 10 -r 2 add_scalars(x_, y_)\n",
    "display(add_scalars(x_, y_).reshape(-1))"
   ],
   "metadata": {
    "collapsed": false,
    "ExecuteTime": {
     "end_time": "2023-11-22T17:15:50.950880642Z",
     "start_time": "2023-11-22T17:15:50.558303719Z"
    }
   },
   "id": "665dddbf01d44797"
  }
 ],
 "metadata": {
  "kernelspec": {
   "display_name": "Python 3",
   "language": "python",
   "name": "python3"
  },
  "language_info": {
   "codemirror_mode": {
    "name": "ipython",
    "version": 2
   },
   "file_extension": ".py",
   "mimetype": "text/x-python",
   "name": "python",
   "nbconvert_exporter": "python",
   "pygments_lexer": "ipython2",
   "version": "2.7.6"
  }
 },
 "nbformat": 4,
 "nbformat_minor": 5
}
